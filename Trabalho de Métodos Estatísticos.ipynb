{
 "cells": [
  {
   "cell_type": "code",
   "execution_count": 91,
   "metadata": {
    "collapsed": true
   },
   "outputs": [],
   "source": [
    "\n",
    "import pandas as pd\n",
    "from matplotlib import pyplot as plt\n",
    "from matplotlib.font_manager import FontProperties\n",
    "import numpy as np\n",
    "from scipy.stats import linregress\n",
    "import random \n",
    "\n",
    "%matplotlib inline"
   ]
  },
  {
   "cell_type": "markdown",
   "metadata": {},
   "source": [
    "##  Para todos os exercícios foi utilizado mínimos quadrados para a estimação dos parâmetros"
   ]
  },
  {
   "cell_type": "markdown",
   "metadata": {},
   "source": [
    "### Exercício 7.1 - Respostas e desenvolvimento abaixo\n",
    "\n",
    "a) Os parâmetros são: \n",
    "w[0] = 0.660307031398 - \n",
    "w[1] = 62.4267167856\n",
    "\n",
    "Foram calculados através do método de minimos quadrados\n",
    "\n",
    "b) 82.23\n",
    "\n",
    "c) Como a margem de erro é grande, a variável x (força no braço) pode assumir muitos valores."
   ]
  },
  {
   "cell_type": "code",
   "execution_count": 92,
   "metadata": {
    "collapsed": false
   },
   "outputs": [
    {
     "data": {
      "text/html": [
       "<div>\n",
       "<table border=\"1\" class=\"dataframe\">\n",
       "  <thead>\n",
       "    <tr style=\"text-align: right;\">\n",
       "      <th></th>\n",
       "      <th>x</th>\n",
       "      <th>y</th>\n",
       "    </tr>\n",
       "  </thead>\n",
       "  <tbody>\n",
       "    <tr>\n",
       "      <th>0</th>\n",
       "      <td>17.3</td>\n",
       "      <td>71.7</td>\n",
       "    </tr>\n",
       "    <tr>\n",
       "      <th>1</th>\n",
       "      <td>19.3</td>\n",
       "      <td>48.3</td>\n",
       "    </tr>\n",
       "    <tr>\n",
       "      <th>2</th>\n",
       "      <td>19.5</td>\n",
       "      <td>88.3</td>\n",
       "    </tr>\n",
       "    <tr>\n",
       "      <th>3</th>\n",
       "      <td>19.7</td>\n",
       "      <td>75.0</td>\n",
       "    </tr>\n",
       "    <tr>\n",
       "      <th>4</th>\n",
       "      <td>22.9</td>\n",
       "      <td>91.7</td>\n",
       "    </tr>\n",
       "    <tr>\n",
       "      <th>5</th>\n",
       "      <td>23.1</td>\n",
       "      <td>100.0</td>\n",
       "    </tr>\n",
       "    <tr>\n",
       "      <th>6</th>\n",
       "      <td>26.4</td>\n",
       "      <td>73.3</td>\n",
       "    </tr>\n",
       "    <tr>\n",
       "      <th>7</th>\n",
       "      <td>26.8</td>\n",
       "      <td>65.0</td>\n",
       "    </tr>\n",
       "    <tr>\n",
       "      <th>8</th>\n",
       "      <td>27.6</td>\n",
       "      <td>75.0</td>\n",
       "    </tr>\n",
       "    <tr>\n",
       "      <th>9</th>\n",
       "      <td>28.1</td>\n",
       "      <td>88.3</td>\n",
       "    </tr>\n",
       "  </tbody>\n",
       "</table>\n",
       "</div>"
      ],
      "text/plain": [
       "      x      y\n",
       "0  17.3   71.7\n",
       "1  19.3   48.3\n",
       "2  19.5   88.3\n",
       "3  19.7   75.0\n",
       "4  22.9   91.7\n",
       "5  23.1  100.0\n",
       "6  26.4   73.3\n",
       "7  26.8   65.0\n",
       "8  27.6   75.0\n",
       "9  28.1   88.3"
      ]
     },
     "execution_count": 92,
     "metadata": {},
     "output_type": "execute_result"
    }
   ],
   "source": [
    "data = [('x', [17.3, 19.3,19.5,19.7,22.9,23.1,26.4,26.8,27.6,28.1]),\n",
    "         ('y', [71.7,48.3,88.3,75.0,91.7, 100.0,73.3,65.0,75.0,88.3])]\n",
    "df = pd.DataFrame.from_items(data)\n",
    "df"
   ]
  },
  {
   "cell_type": "code",
   "execution_count": 93,
   "metadata": {
    "collapsed": false
   },
   "outputs": [
    {
     "data": {
      "text/plain": [
       "[<matplotlib.lines.Line2D at 0x1076da110>]"
      ]
     },
     "execution_count": 93,
     "metadata": {},
     "output_type": "execute_result"
    },
    {
     "data": {
      "image/png": "[encoded data removed]",
      "text/plain": [
       "<matplotlib.figure.Figure at 0x1079c5950>"
      ]
     },
     "metadata": {},
     "output_type": "display_data"
    }
   ],
   "source": [
    "serie = df['y']\n",
    "plt.figure()\n",
    "plt.plot(serie)"
   ]
  },
  {
   "cell_type": "code",
   "execution_count": 94,
   "metadata": {
    "collapsed": false
   },
   "outputs": [
    {
     "data": {
      "text/plain": [
       "[<matplotlib.lines.Line2D at 0x1076db2d0>,\n",
       " <matplotlib.lines.Line2D at 0x107bcb710>]"
      ]
     },
     "execution_count": 94,
     "metadata": {},
     "output_type": "execute_result"
    },
    {
     "data": {
      "image/png": "[encoded data removed]",
      "text/plain": [
       "<matplotlib.figure.Figure at 0x107788d10>"
      ]
     },
     "metadata": {},
     "output_type": "display_data"
    }
   ],
   "source": [
    "A = np.array([df.ix[range(len(serie)),'x'], np.ones(len(serie))])\n",
    "y = np.array(serie)\n",
    "w = np.linalg.lstsq(A.T,y)[0]\n",
    "line = w[0]*df.ix[range(len(serie)),'x']+w[1]\n",
    "plt.figure()\n",
    "plt.plot(df.ix[range(len(serie)),'x'],line,'r-',df.ix[range(len(serie)),'x'],y,'o')"
   ]
  },
  {
   "cell_type": "code",
   "execution_count": 95,
   "metadata": {
    "collapsed": false
   },
   "outputs": [
    {
     "name": "stdout",
     "output_type": "stream",
     "text": [
      "Resposta letra A\n",
      "0.660307031398\n",
      "62.4267167856\n"
     ]
    }
   ],
   "source": [
    "print('Resposta letra A')\n",
    "print(w[0])\n",
    "print(w[1])"
   ]
  },
  {
   "cell_type": "code",
   "execution_count": 96,
   "metadata": {
    "collapsed": false
   },
   "outputs": [
    {
     "name": "stdout",
     "output_type": "stream",
     "text": [
      "Resposta letra B\n"
     ]
    },
    {
     "data": {
      "text/plain": [
       "82.235927727588589"
      ]
     },
     "execution_count": 96,
     "metadata": {},
     "output_type": "execute_result"
    }
   ],
   "source": [
    "prediction = w[0]*df['x']+w[1]\n",
    "prediction30 = w[0]*30+w[1]\n",
    "print('Resposta letra B')\n",
    "prediction30\n"
   ]
  },
  {
   "cell_type": "code",
   "execution_count": 97,
   "metadata": {
    "collapsed": false
   },
   "outputs": [
    {
     "name": "stdout",
     "output_type": "stream",
     "text": [
      "Error mean percentage is 21.9684%\n"
     ]
    }
   ],
   "source": [
    "Error = np.abs(prediction-np.array(df.ix[:len(df),'y']))\n",
    "Erroraverage = Error.mean()\n",
    "percentage = (Erroraverage/(df['y'].max()-df['y'].min()))*100                   \n",
    "print ('Error mean percentage is %0.4f%%' % percentage)"
   ]
  },
  {
   "cell_type": "code",
   "execution_count": 98,
   "metadata": {
    "collapsed": false,
    "scrolled": true
   },
   "outputs": [
    {
     "data": {
      "text/plain": [
       "0     2.150028\n",
       "1    26.870642\n",
       "2    12.997296\n",
       "3     0.434765\n",
       "4    14.152252\n",
       "5    22.320191\n",
       "6     6.558822\n",
       "7    15.122945\n",
       "8     5.651191\n",
       "9     7.318656\n",
       "Name: x, dtype: float64"
      ]
     },
     "execution_count": 98,
     "metadata": {},
     "output_type": "execute_result"
    }
   ],
   "source": [
    "Error"
   ]
  },
  {
   "cell_type": "code",
   "execution_count": 99,
   "metadata": {
    "collapsed": false
   },
   "outputs": [
    {
     "name": "stdout",
     "output_type": "stream",
     "text": [
      "Resposta letra C\n"
     ]
    },
    {
     "data": {
      "text/plain": [
       "[<matplotlib.lines.Line2D at 0x1075baed0>,\n",
       " <matplotlib.lines.Line2D at 0x107cd22d0>]"
      ]
     },
     "execution_count": 99,
     "metadata": {},
     "output_type": "execute_result"
    },
    {
     "data": {
      "image/png": "[encoded data removed]",
      "text/plain": [
       "<matplotlib.figure.Figure at 0x107a7ca90>"
      ]
     },
     "metadata": {},
     "output_type": "display_data"
    }
   ],
   "source": [
    "print('Resposta letra C')\n",
    "plt.figure()\n",
    "plt.plot(df.ix[range(len(serie)),'x'],line,'r-',Error,y,'o')"
   ]
  },
  {
   "cell_type": "markdown",
   "metadata": {},
   "source": [
    "### Exercício 7.5 - Respostas e desenvolvimento abaixo\n",
    "\n",
    "\n",
    "A) Regressão a partir dos parâmetros\n",
    "('w0:', 1.8090909090909058)\n",
    "('w1:', 6.4136363636363631)\n",
    "\n",
    "B) Qual o valor para o açúcar convertido quanto a temperatura : 1.75 ?\n",
    "9.5795454545454479\n",
    "\n",
    "C) No gráfico abaixo"
   ]
  },
  {
   "cell_type": "code",
   "execution_count": 120,
   "metadata": {
    "collapsed": false
   },
   "outputs": [
    {
     "data": {
      "text/html": [
       "<div>\n",
       "<table border=\"1\" class=\"dataframe\">\n",
       "  <thead>\n",
       "    <tr style=\"text-align: right;\">\n",
       "      <th></th>\n",
       "      <th>Temperatura</th>\n",
       "      <th>ConvertedSugar</th>\n",
       "    </tr>\n",
       "  </thead>\n",
       "  <tbody>\n",
       "    <tr>\n",
       "      <th>0</th>\n",
       "      <td>1.0</td>\n",
       "      <td>8.1</td>\n",
       "    </tr>\n",
       "    <tr>\n",
       "      <th>1</th>\n",
       "      <td>1.1</td>\n",
       "      <td>7.8</td>\n",
       "    </tr>\n",
       "    <tr>\n",
       "      <th>2</th>\n",
       "      <td>1.2</td>\n",
       "      <td>8.5</td>\n",
       "    </tr>\n",
       "    <tr>\n",
       "      <th>3</th>\n",
       "      <td>1.3</td>\n",
       "      <td>9.8</td>\n",
       "    </tr>\n",
       "    <tr>\n",
       "      <th>4</th>\n",
       "      <td>1.4</td>\n",
       "      <td>9.5</td>\n",
       "    </tr>\n",
       "    <tr>\n",
       "      <th>5</th>\n",
       "      <td>1.5</td>\n",
       "      <td>8.9</td>\n",
       "    </tr>\n",
       "    <tr>\n",
       "      <th>6</th>\n",
       "      <td>1.6</td>\n",
       "      <td>8.6</td>\n",
       "    </tr>\n",
       "    <tr>\n",
       "      <th>7</th>\n",
       "      <td>1.7</td>\n",
       "      <td>10.2</td>\n",
       "    </tr>\n",
       "    <tr>\n",
       "      <th>8</th>\n",
       "      <td>1.8</td>\n",
       "      <td>9.3</td>\n",
       "    </tr>\n",
       "    <tr>\n",
       "      <th>9</th>\n",
       "      <td>1.9</td>\n",
       "      <td>9.2</td>\n",
       "    </tr>\n",
       "    <tr>\n",
       "      <th>10</th>\n",
       "      <td>2.0</td>\n",
       "      <td>10.5</td>\n",
       "    </tr>\n",
       "  </tbody>\n",
       "</table>\n",
       "</div>"
      ],
      "text/plain": [
       "    Temperatura  ConvertedSugar\n",
       "0           1.0             8.1\n",
       "1           1.1             7.8\n",
       "2           1.2             8.5\n",
       "3           1.3             9.8\n",
       "4           1.4             9.5\n",
       "5           1.5             8.9\n",
       "6           1.6             8.6\n",
       "7           1.7            10.2\n",
       "8           1.8             9.3\n",
       "9           1.9             9.2\n",
       "10          2.0            10.5"
      ]
     },
     "execution_count": 120,
     "metadata": {},
     "output_type": "execute_result"
    }
   ],
   "source": [
    "data = [('Temperatura', [1.0,1.1,1.2,1.3,1.4,1.5,1.6,1.7,1.8,1.9,2.0]),\n",
    "         ('ConvertedSugar', [8.1,7.8,8.5,9.8,9.5,8.9,8.6,10.2,9.3,9.2,10.5])]\n",
    "df = pd.DataFrame.from_items(data)\n",
    "df"
   ]
  },
  {
   "cell_type": "code",
   "execution_count": 121,
   "metadata": {
    "collapsed": false
   },
   "outputs": [
    {
     "data": {
      "text/plain": [
       "[<matplotlib.lines.Line2D at 0x108130ed0>]"
      ]
     },
     "execution_count": 121,
     "metadata": {},
     "output_type": "execute_result"
    },
    {
     "data": {
      "image/png": "[encoded data removed]",
      "text/plain": [
       "<matplotlib.figure.Figure at 0x108435e50>"
      ]
     },
     "metadata": {},
     "output_type": "display_data"
    }
   ],
   "source": [
    "serie = df['ConvertedSugar']\n",
    "plt.figure()\n",
    "plt.plot(serie)"
   ]
  },
  {
   "cell_type": "code",
   "execution_count": 122,
   "metadata": {
    "collapsed": false,
    "scrolled": true
   },
   "outputs": [
    {
     "name": "stdout",
     "output_type": "stream",
     "text": [
      "A) Regressão a partir dos parâmetros\n",
      "('w0:', 1.8090909090909058)\n",
      "('w1:', 6.4136363636363631)\n"
     ]
    },
    {
     "data": {
      "text/plain": [
       "[<matplotlib.lines.Line2D at 0x108130c90>,\n",
       " <matplotlib.lines.Line2D at 0x10894a9d0>]"
      ]
     },
     "execution_count": 122,
     "metadata": {},
     "output_type": "execute_result"
    },
    {
     "data": {
      "image/png": "[encoded data removed]",
      "text/plain": [
       "<matplotlib.figure.Figure at 0x107f51310>"
      ]
     },
     "metadata": {},
     "output_type": "display_data"
    }
   ],
   "source": [
    "A = np.array([df.ix[range(len(serie)),'Temperatura'], np.ones(len(serie))])\n",
    "y = np.array(serie)\n",
    "w = np.linalg.lstsq(A.T,y)[0]\n",
    "line = w[0]*df.ix[range(len(serie)),'Temperatura']+w[1]\n",
    "print('A) Regressão a partir dos parâmetros')\n",
    "print('w0:', w[0])\n",
    "print('w1:', w[1])\n",
    "plt.figure()\n",
    "plt.plot(df.ix[range(len(serie)),'Temperatura'],line,'r-',df.ix[range(len(serie)),'Temperatura'],y,'o')"
   ]
  },
  {
   "cell_type": "code",
   "execution_count": 123,
   "metadata": {
    "collapsed": false
   },
   "outputs": [
    {
     "name": "stdout",
     "output_type": "stream",
     "text": [
      "B) Qual o valor para o açúcar convertido quanto a temperatura : 1.75 ?\n"
     ]
    },
    {
     "data": {
      "text/plain": [
       "9.5795454545454479"
      ]
     },
     "execution_count": 123,
     "metadata": {},
     "output_type": "execute_result"
    }
   ],
   "source": [
    "print('B) Qual o valor para o açúcar convertido quanto a temperatura : 1.75 ?')\n",
    "\n",
    "prediction_ = w[0]*1.75+w[1]\n",
    "prediction_"
   ]
  },
  {
   "cell_type": "code",
   "execution_count": 128,
   "metadata": {
    "collapsed": false
   },
   "outputs": [
    {
     "name": "stdout",
     "output_type": "stream",
     "text": [
      "C) Gráfico do erro residual x Temperatura:\n",
      "Error mean percentage is 18.6348%\n"
     ]
    },
    {
     "data": {
      "text/plain": [
       "<matplotlib.text.Text at 0x108d75210>"
      ]
     },
     "execution_count": 128,
     "metadata": {},
     "output_type": "execute_result"
    },
    {
     "data": {
      "image/png": "[encoded data removed]",
      "text/plain": [
       "<matplotlib.figure.Figure at 0x10864e6d0>"
      ]
     },
     "metadata": {},
     "output_type": "display_data"
    }
   ],
   "source": [
    "print('C) Gráfico do erro residual x Temperatura:')\n",
    "prediction = w[0]*df['Temperatura']+w[1]\n",
    "\n",
    "Error = np.abs(prediction-np.array(df.ix[:len(df),'ConvertedSugar']))\n",
    "\n",
    "Erroraverage = Error.mean()\n",
    "percentage = (Erroraverage/(df['ConvertedSugar'].max()-df['ConvertedSugar'].min()))*100                   \n",
    "print ('Error mean percentage is %0.4f%%' % percentage)\n",
    "plt.figure()\n",
    "plt.plot(Error,line,'r-',df.ix[range(len(serie)),'Temperatura'],y,'o')\n",
    "plt.xlabel('Erro')\n",
    "plt.ylabel(u'Temperatura')"
   ]
  },
  {
   "cell_type": "markdown",
   "metadata": {},
   "source": [
    "### Exercício 7.7 - Respostas e desenvolvimento abaixo\n",
    "1. A) Não. Não parece fitar bem com a regressão\n",
    "2. B) ('w0:', 2.5629496402877701)\n",
    "   ('w1:', -71.817625899280586)"
   ]
  },
  {
   "cell_type": "code",
   "execution_count": 130,
   "metadata": {
    "collapsed": false
   },
   "outputs": [
    {
     "data": {
      "text/html": [
       "<div>\n",
       "<table border=\"1\" class=\"dataframe\">\n",
       "  <thead>\n",
       "    <tr style=\"text-align: right;\">\n",
       "      <th></th>\n",
       "      <th>x</th>\n",
       "      <th>y</th>\n",
       "    </tr>\n",
       "  </thead>\n",
       "  <tbody>\n",
       "    <tr>\n",
       "      <th>0</th>\n",
       "      <td>123</td>\n",
       "      <td>76</td>\n",
       "    </tr>\n",
       "    <tr>\n",
       "      <th>1</th>\n",
       "      <td>55</td>\n",
       "      <td>62</td>\n",
       "    </tr>\n",
       "    <tr>\n",
       "      <th>2</th>\n",
       "      <td>100</td>\n",
       "      <td>66</td>\n",
       "    </tr>\n",
       "    <tr>\n",
       "      <th>3</th>\n",
       "      <td>75</td>\n",
       "      <td>58</td>\n",
       "    </tr>\n",
       "    <tr>\n",
       "      <th>4</th>\n",
       "      <td>159</td>\n",
       "      <td>88</td>\n",
       "    </tr>\n",
       "    <tr>\n",
       "      <th>5</th>\n",
       "      <td>109</td>\n",
       "      <td>70</td>\n",
       "    </tr>\n",
       "    <tr>\n",
       "      <th>6</th>\n",
       "      <td>48</td>\n",
       "      <td>37</td>\n",
       "    </tr>\n",
       "    <tr>\n",
       "      <th>7</th>\n",
       "      <td>138</td>\n",
       "      <td>82</td>\n",
       "    </tr>\n",
       "    <tr>\n",
       "      <th>8</th>\n",
       "      <td>164</td>\n",
       "      <td>88</td>\n",
       "    </tr>\n",
       "    <tr>\n",
       "      <th>9</th>\n",
       "      <td>28</td>\n",
       "      <td>43</td>\n",
       "    </tr>\n",
       "  </tbody>\n",
       "</table>\n",
       "</div>"
      ],
      "text/plain": [
       "     x   y\n",
       "0  123  76\n",
       "1   55  62\n",
       "2  100  66\n",
       "3   75  58\n",
       "4  159  88\n",
       "5  109  70\n",
       "6   48  37\n",
       "7  138  82\n",
       "8  164  88\n",
       "9   28  43"
      ]
     },
     "execution_count": 130,
     "metadata": {},
     "output_type": "execute_result"
    }
   ],
   "source": [
    "data = [('x', [123,55,100,75,159,109,48,138,164,28]),\n",
    "         ('y', [76,62,66,58,88,70,37,82,88,43])]\n",
    "df = pd.DataFrame.from_items(data)\n",
    "df"
   ]
  },
  {
   "cell_type": "code",
   "execution_count": 146,
   "metadata": {
    "collapsed": false,
    "scrolled": true
   },
   "outputs": [
    {
     "data": {
      "text/plain": [
       "[<matplotlib.lines.Line2D at 0x1092effd0>]"
      ]
     },
     "execution_count": 146,
     "metadata": {},
     "output_type": "execute_result"
    },
    {
     "data": {
      "image/png": "[encoded data removed]",
      "text/plain": [
       "<matplotlib.figure.Figure at 0x1099276d0>"
      ]
     },
     "metadata": {},
     "output_type": "display_data"
    }
   ],
   "source": [
    "plt.plot(df['x'],df['y'])"
   ]
  },
  {
   "cell_type": "code",
   "execution_count": 147,
   "metadata": {
    "collapsed": false
   },
   "outputs": [
    {
     "name": "stdout",
     "output_type": "stream",
     "text": [
      "Regressão a partir dos parâmetros\n",
      "('w0:', 2.5629496402877701)\n",
      "('w1:', -71.817625899280586)\n"
     ]
    },
    {
     "data": {
      "text/plain": [
       "[<matplotlib.lines.Line2D at 0x10966a910>,\n",
       " <matplotlib.lines.Line2D at 0x109b41d50>]"
      ]
     },
     "execution_count": 147,
     "metadata": {},
     "output_type": "execute_result"
    },
    {
     "data": {
      "image/png": "[encoded data removed]",
      "text/plain": [
       "<matplotlib.figure.Figure at 0x10929dd10>"
      ]
     },
     "metadata": {},
     "output_type": "display_data"
    }
   ],
   "source": [
    "A = np.array([df.ix[range(len(df['x'])),'y'], np.ones(len(df))])\n",
    "y = np.array(df['x'])\n",
    "w = np.linalg.lstsq(A.T,y)[0]\n",
    "line = w[0]*df.ix[range(len(df)),'x']+w[1]\n",
    "print('Regressão a partir dos parâmetros')\n",
    "print('w0:', w[0])\n",
    "print('w1:', w[1])\n",
    "plt.figure()\n",
    "plt.plot(df.ix[range(len(df['x'])),'x'],line,'r-',df.ix[range(len(df['x'])),'x'],y,'o')"
   ]
  },
  {
   "cell_type": "code",
   "execution_count": null,
   "metadata": {
    "collapsed": true
   },
   "outputs": [],
   "source": []
  }
 ],
 "metadata": {
  "kernelspec": {
   "display_name": "Python 2",
   "language": "python",
   "name": "python2"
  },
  "language_info": {
   "codemirror_mode": {
    "name": "ipython",
    "version": 2
   },
   "file_extension": ".py",
   "mimetype": "text/x-python",
   "name": "python",
   "nbconvert_exporter": "python",
   "pygments_lexer": "ipython2",
   "version": "2.7.10"
  }
 },
 "nbformat": 4,
 "nbformat_minor": 0
}
